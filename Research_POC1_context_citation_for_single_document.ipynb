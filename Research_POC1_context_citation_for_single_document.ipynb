{
  "nbformat": 4,
  "nbformat_minor": 0,
  "metadata": {
    "colab": {
      "provenance": [],
      "mount_file_id": "1az-bZdONxqIe1UnblkQriMdWRV3BOZxF",
      "authorship_tag": "ABX9TyOP7RHeZayf+bU5qCVVeq2a",
      "include_colab_link": true
    },
    "kernelspec": {
      "name": "python3",
      "display_name": "Python 3"
    },
    "language_info": {
      "name": "python"
    }
  },
  "cells": [
    {
      "cell_type": "markdown",
      "metadata": {
        "id": "view-in-github",
        "colab_type": "text"
      },
      "source": [
        "<a href=\"https://colab.research.google.com/github/KalyaniVijayPakhale/QnA-with-LLM-embeddings/blob/main/Research_POC1_context_citation_for_single_document.ipynb\" target=\"_parent\"><img src=\"https://colab.research.google.com/assets/colab-badge.svg\" alt=\"Open In Colab\"/></a>"
      ]
    },
    {
      "cell_type": "code",
      "execution_count": 1,
      "metadata": {
        "id": "DnWTCl-4okC1"
      },
      "outputs": [],
      "source": [
        "!pip install langchain --upgrade\n",
        "!pip install openai\n",
        "!pip install chromadb\n",
        "!pip install pymupdf\n",
        "!pip install vectorstore\n",
        "!pip install tiktoken\n",
        "!pip install python-dotenv"
      ]
    },
    {
      "cell_type": "code",
      "source": [
        "pip install PyMuPDF"
      ],
      "metadata": {
        "id": "9LTt1Bh0sjO1"
      },
      "execution_count": 2,
      "outputs": []
    },
    {
      "cell_type": "code",
      "source": [
        "from langchain.document_loaders import UnstructuredPDFLoader, OnlinePDFLoader, PyPDFLoader, TextLoader\n",
        "from langchain.text_splitter import RecursiveCharacterTextSplitter\n",
        "from dotenv import load_dotenv\n",
        "import os\n",
        "from langchain.docstore.document import Document\n",
        "load_dotenv()\n",
        "import fitz\n",
        "import vectorstore\n",
        "from langchain.vectorstores import Chroma, Pinecone\n",
        "from langchain.embeddings.openai import OpenAIEmbeddings\n",
        "#import pinecone\n",
        "from langchain.docstore.document import Document\n",
        "from langchain.chat_models import ChatOpenAI\n",
        "from langchain.chains.question_answering import load_qa_chain\n",
        "from langchain.chains import create_citation_fuzzy_match_chain\n",
        "from langchain.chat_models import ChatOpenAI\n",
        "from langchain.retrievers.multi_query import MultiQueryRetriever\n",
        "from langchain.prompts import PromptTemplate\n",
        "from langchain.vectorstores import FAISS\n",
        "from langchain.chains import RetrievalQA\n",
        "from langchain.memory import ConversationBufferMemory\n",
        "from langchain.chat_models import ChatOpenAI\n",
        "from langchain.prompts import PromptTemplate\n",
        "from langchain.agents import AgentExecutor, Tool,initialize_agent\n",
        "from langchain.agents.types import AgentType"
      ],
      "metadata": {
        "id": "9O_JCMDXpgSW"
      },
      "execution_count": 3,
      "outputs": []
    },
    {
      "cell_type": "code",
      "source": [
        "# Load the data\n",
        "def pdf_to_text(pdf_path, output_text_path):\n",
        "    doc = fitz.open(file_path)\n",
        "    text = \"\"\n",
        "\n",
        "    for page_num in range(doc.page_count):\n",
        "        page = doc[page_num]\n",
        "        text += page.get_text()\n",
        "\n",
        "    doc.close()\n",
        "\n",
        "    with open(output_text_path, \"w\", encoding=\"utf-8\") as text_file:\n",
        "        text_file.write(text)\n",
        "\n",
        "file_path = \"/content/drive/MyDrive/Information Extraction/Research POC/citation/Doc_1.PDF\"\n",
        "text_file_path = \"/content/drive/MyDrive/Information Extraction/Research POC/citation/Doc_1.txt\"\n",
        "\n",
        "pdf_to_text(file_path, text_file_path)"
      ],
      "metadata": {
        "id": "3NVfA_lwp7pO"
      },
      "execution_count": 4,
      "outputs": []
    },
    {
      "cell_type": "code",
      "source": [
        "import fitz\n",
        "\n",
        "def get_pdf_metadata(file_path):\n",
        "    try:\n",
        "        pdf_document = fitz.open(file_path)\n",
        "\n",
        "        # Get document metadata\n",
        "        metadata = pdf_document.metadata\n",
        "        # no_of_pages = len(doc)\n",
        "        # for i in range(no_of_pages):\n",
        "        #     page_text = doc[i].get_text()\n",
        "        #     page_metadata = {\"Source pdf\": file_name, \"Page no\": i}\n",
        "        #     page = Document(page_content=page_text, metadata=page_metadata)\n",
        "        #     document.append(page)\n",
        "\n",
        "        # Print basic metadata information\n",
        "        print(\"Title:\", metadata.get(\"title\", \"N/A\"))\n",
        "        # print(\"Author:\", metadata.get(\"author\", \"N/A\"))\n",
        "        # print(\"Subject:\", metadata.get(\"subject\", \"N/A\"))\n",
        "        # print(\"Creator:\", metadata.get(\"creator\", \"N/A\"))\n",
        "        # print(\"Producer:\", metadata.get(\"producer\", \"N/A\"))\n",
        "        print(\"Creation Date:\", metadata.get(\"creationDate\", \"N/A\"))\n",
        "        print(\"Modification Date:\", metadata.get(\"modDate\", \"N/A\"))\n",
        "\n",
        "        print(\"Number of Pages:\", pdf_document.page_count)\n",
        "        # print(document[0])\n",
        "\n",
        "\n",
        "\n",
        "\n",
        "    except Exception as e:\n",
        "        print(f\"An error occurred: {e}\")\n",
        "\n",
        "file_path = \"/content/drive/MyDrive/Information Extraction/Research POC/citation/Doc_1.PDF\"\n",
        "get_pdf_metadata(file_path)"
      ],
      "metadata": {
        "colab": {
          "base_uri": "https://localhost:8080/"
        },
        "id": "Kt9o8wb9qdLa",
        "outputId": "7f83daa9-a404-491c-bf97-5bd703724670"
      },
      "execution_count": 8,
      "outputs": [
        {
          "output_type": "stream",
          "name": "stdout",
          "text": [
            "Title: Basel III Capital Regulations\n",
            "Creation Date: D:20230411145032+05'30'\n",
            "Modification Date: D:20230411152613+05'30'\n",
            "Number of Pages: 9\n"
          ]
        }
      ]
    },
    {
      "cell_type": "code",
      "source": [
        "# now we get all pdf metadata\n",
        "loader = TextLoader(text_file_path)\n",
        "data = loader.load()\n",
        "data"
      ],
      "metadata": {
        "id": "-anHEzUzq54p",
        "colab": {
          "base_uri": "https://localhost:8080/"
        },
        "outputId": "263b47a6-e7b8-48a1-afc1-72ecb8f757e2"
      },
      "execution_count": 9,
      "outputs": [
        {
          "output_type": "execute_result",
          "data": {
            "text/plain": [
              "[Document(page_content=' \\nRBI/2023-24/14 \\nDOR.SFG.REC.10/30.01.021/2023-24 \\n \\n \\n \\n                    April 11, 2023 \\n  \\n \\nAll Scheduled Commercial Banks including Small Finance Banks  \\n(excluding Regional Rural Banks, Local Area Banks and Payments Banks) \\nAll Deposit taking Non-Banking Finance Companies (NBFCs) including Housing Finance \\nCompanies (HFCs) \\n \\n \\nMadam/Dear Sir, \\nFramework for acceptance of Green Deposits \\nClimate change has been recognised as one of the most critical challenges faced by the global \\nsociety and economy in the 21st century. The financial sector can play a pivotal role in \\nmobilizing resources and their allocation thereof in green activities/projects. Green finance is \\nalso progressively gaining traction in India. \\n2. Deposits constitute a major source for mobilizing of funds by the Regulated Entities (REs). \\nIt is seen that some REs are already offering green deposits for financing green activities and \\nprojects. Taking this forward and with a view to fostering and developing green finance \\necosystem in the country, it has been decided to put in place the enclosed Framework for \\nacceptance of Green Deposits for the REs. \\n3. The framework shall come into effect from June 1, 2023. \\n \\nYours faithfully, \\n(Sunil T. S. Nair) \\nChief General Manager \\n \\nFramework for acceptance of Green Deposits \\n \\nA. \\n Purpose/Rationale \\nTo encourage regulated entities (REs) to offer green deposits to customers, protect interest of \\nthe depositors, aid customers to achieve their sustainability agenda, address greenwashing \\nconcerns and help augment the flow of credit to green activities/projects.   \\n1. \\nApplicability \\nThe provisions of these instructions shall be applicable to the following entities, collectively \\nreferred to as regulated entities (REs): \\n(a) Scheduled Commercial Banks including Small Finance Banks (excluding Regional Rural \\nBanks, Local Area Banks and Payments Banks) and \\n(b) All Deposit taking Non-Banking Financial Companies (NBFCs) registered with the \\nReserve Bank of India under clause (5) of Section 45IA of The Reserve Bank of India Act, \\n19341, including Housing Finance Companies (HFCs) registered under Section 29A of \\nThe National Housing Bank Act, 19872. \\n2. \\nDefinitions \\nIn these guidelines, unless the context states otherwise, the terms herein shall bear the \\nmeaning assigned to them below: \\n(a) \"green activities/projects” means the activities/projects meeting the requirements \\nprescribed in paragraph 7 of these guidelines; \\n(b) “green deposit” means an interest-bearing deposit, received by the RE for a fixed period \\nand the proceeds of which are earmarked for being allocated towards green finance;  \\n(c) “green finance” means lending to and/or investing in the activities/projects meeting the \\nrequirements prescribed in paragraph 7 of these guidelines that contributes to climate risk \\nmitigation, climate adaptation and resilience, and other climate-related or environmental \\nobjectives - including biodiversity management and nature-based solutions; \\n(d) “greenwashing” means the practice of marketing products/services as green, when in fact \\nthey do not meet requirements to be defined as green activities/projects.  \\n                                            \\n1The Reserve Bank of India Act, No. 2 of 1934 \\n2The National Housing Bank Act, No. 53 of 1987 \\nFramework for acceptance of Green Deposits  \\n- 2 - \\nAll other expressions unless defined herein shall have the same meaning as have been \\nassigned to them under The Banking Regulation Act, 19493 or The Reserve Bank of India Act, \\n1934, The National Housing Bank Act, 1987 or any statutory modification or re-enactment \\nthereto or as used in commercial parlance, as the case may be. \\nB. \\nGreen Deposit Framework \\n3. \\nDenomination, interest rates and tenor of deposits \\nREs shall issue green deposits as cumulative/non-cumulative deposits. On maturity, the green \\ndeposits would be renewed or withdrawn at the option of the depositor. The green deposits \\nshall be denominated in Indian Rupees only. The tenor, size, interest rate and other terms and \\nconditions (as applicable to the RE) as defined in the Master Direction - Reserve Bank of India \\n(Interest Rate on Deposits) Directions, 2016 dated March 03, 2016, Master Direction - Non-\\nBanking Financial Companies Acceptance of Public Deposits (Reserve Bank) Directions, 2016 \\ndated August 25, 2016 and Master Direction - Non-Banking Financial Company - Housing \\nFinance Company (Reserve Bank) Directions, 2021 dated February 17, 2021, as amended \\nfrom time to time, shall also be applicable to green deposits mutatis mutandis. \\n4. \\nPolicy \\nREs shall put in place a comprehensive Board-approved policy on green deposits laying down \\ntherein, all aspects in detail for the issuance and allocation of green deposits.  A copy of the \\nabove policy on ‘Green Deposits’ shall be made available on the website of the RE. \\nC. \\nFinancing Framework \\n5. \\nREs shall put in place a Board-approved Financing Framework (FF) for effective \\nallocation of green deposits covering, inter-alia, the following: \\n(i) the eligible green activities/projects that could be financed out of proceeds raised through \\nthe green deposits (as permitted below in paragraph 7 under “Use of Proceeds”); \\n(ii) the process for project evaluation and selection by the RE (i.e., climate-related or \\nenvironmental objectives) including identifying the projects fit for lending/investing within the \\neligible categories, monitoring and validating the sustainability information provided by the \\nborrower; \\n(iii) the allocation of proceeds4 of green deposits and its reporting, third-party \\nverification/assurance of the allocation of proceeds and the impact assessment (as per the \\ndetails given below in the paragraphs 8 and 9 under ’Third party Verification/Assurance \\nand Impact Assessment’); and  \\n                                            \\n3The Banking Regulation Act, No. 10 of 1949 \\n4Refers to the allocation of funds from the proceeds of the green deposits to the eligible green activities/projects as specified in \\nthe Financing Framework \\nFramework for acceptance of Green Deposits  \\n- 3 - \\n(iv) the particulars of the temporary allocation (which would only be in liquid instruments up to \\na maximum original tenure of one year, which shall be specified under the Financing \\nFramework) of green deposit proceeds, pending their allocation to the eligible \\nactivities/projects. \\n6. \\nA copy of the ‘Financing Framework’ specifying the above aspects shall be made \\navailable on the website of the RE. The RE shall also arrange to carry out an external review \\nof their FF and the opinion from the external reviewer shall be made available on its website \\nbefore implementation of the FF.  \\nD. \\nUse of proceeds  \\n7. \\nThe allocation of proceeds raised from green deposits shall be based on the official \\nIndian green taxonomy. Pending finalization of the taxonomy, as an interim measure, REs shall \\nbe required to allocate the proceeds raised through green deposits towards the following list5 \\nof green activities/projects which encourage energy efficiency in resource utilisation, reduce \\ncarbon emissions and greenhouse gases, promote climate resilience and/or adaptation and \\nvalue and improve natural ecosystems and biodiversity. \\nSector \\nDescription \\nRenewable \\nEnergy \\n\\uf0b7 Solar/wind/biomass/hydropower energy projects that integrate \\nenergy generation and storage. \\n\\uf0b7 Incentivizing adoption of renewable energy. \\nEnergy Efficiency \\n\\uf0b7 Design and construction of energy-efficient and energy-saving \\nsystems and installations in buildings and properties. \\n\\uf0b7 Supporting lighting improvements (e.g. replacement with LEDs). \\n\\uf0b7 Supporting construction of new low-carbon buildings as well as \\nenergy-efficiency retrofits to existing buildings. \\n\\uf0b7 Projects to reduce electricity grid losses. \\nClean \\nTransportation \\n\\uf0b7 Projects promoting electrification of transportation. \\n\\uf0b7 Adoption of clean fuels like electric vehicles including building \\ncharging infrastructure. \\nClimate \\nChange \\nAdaptation \\n\\uf0b7 Projects aimed at making infrastructure more resilient to impacts \\nof climate change. \\nSustainable \\nWater and Waste \\n\\uf0b7 Promoting water efficient irrigation systems. \\n\\uf0b7 Installation/upgradation of wastewater infrastructure including \\n                                            \\n5Adopted from the list of eligible green projects falling under Eligible Categories defined in Table 1 of the Government of India’s \\n‘Framework for Sovereign Green Bonds’ published on November 9, 2022. \\nFramework for acceptance of Green Deposits  \\n- 4 - \\nSector \\nDescription \\nManagement \\ntransport, treatment and disposal systems. \\n\\uf0b7 Water resources conservation. \\n\\uf0b7 Flood defence systems. \\nPollution \\nPrevention \\nand \\nControl \\n\\uf0b7 Projects targeting reduction of air emissions, greenhouse gas \\ncontrol, soil remediation, waste management, waste prevention, \\nwaste recycling, waste reduction and energy/emission-efficient \\nwaste-to-energy6. \\nGreen Buildings \\n\\uf0b7 Projects related to buildings that meet regional, national or \\ninternationally \\nrecognized \\nstandards \\nor \\ncertifications \\nfor \\nenvironmental performance. \\nSustainable \\nManagement \\nof \\nLiving \\nNatural \\nResources \\nand \\nLand Use \\n\\uf0b7 Environmentally sustainable management of agriculture, animal \\nhusbandry, fishery and aquaculture. \\n\\uf0b7 Sustainable forestry management including \\nafforestation/reforestation. \\n\\uf0b7 Support to certified organic farming. \\n\\uf0b7 Research on living resources and biodiversity protection. \\nTerrestrial \\nand \\nAquatic \\nBiodiversity \\nConservation \\n\\uf0b7 Projects relating to coastal and marine environments. \\n\\uf0b7 Projects \\nrelated \\nto \\nbiodiversity \\npreservation, \\nincluding \\nconservation of endangered species, habitats and ecosystems. \\nExclusions \\n\\uf0b7 Projects involving new or existing extraction, production and distribution of fossil fuels, \\nincluding improvements and upgrades; or where the core energy source is fossil-fuel \\nbased. \\n\\uf0b7 Nuclear power generation. \\n\\uf0b7 Direct waste incineration. \\n\\uf0b7 Alcohol, weapons, tobacco, gaming, or palm oil industries. \\n\\uf0b7 Renewable energy projects generating energy from biomass using feedstock \\noriginating from protected areas. \\n\\uf0b7 Landfill projects. \\n\\uf0b7 Hydropower plants larger than 25 MW. \\n \\n                                            \\n6Feedstock will primarily include: Sewage, manure, wastewater, bagasse, biomass, wood pellets, etc. \\nFramework for acceptance of Green Deposits  \\n- 5 - \\n \\nThe REs shall ensure that the funds raised through green deposits are allocated to the eligible \\ngreen activities/projects. \\nE. \\nThird-Party Verification/Assurance and Impact Assessment \\n8. \\nThe allocation of funds raised through green deposits by REs during a financial year \\nshall be subject to an independent Third-Party Verification/Assurance which shall be done on \\nan annual basis. The third-party assessment would not absolve the RE of its responsibility \\nregarding the end-use of funds, for which the laid down procedures of internal checks and \\nbalances would have to be followed as in the case of other loans. The related terms and \\nconditions to be additionally fulfilled by the borrowers to meet the requirements of the \\nframework laid out in paragraphs 5 to 7 above would be the additional check points while \\nascertaining the end-use of funds. \\n9. \\nThe Third-Party Verification/Assurance Report shall, at the minimum, cover the \\nfollowing aspects: \\n(i) Use of the proceeds to be in accordance with the eligible green activities/projects \\nindicated in paragraph 7 above. The REs shall monitor the end-use of funds \\nallocated against the deposits raised.  \\n(ii) Policies and Internal Controls including, inter-alia, project evaluation and selection, \\nmanagement of proceeds, and validation of the sustainability information provided \\nby the borrower to the REs and Reporting and Disclosures. \\n10. \\nREs, with the assistance of external firms, shall annually assess the impact associated \\nwith the funds lent for or invested in green finance activities/projects through an Impact \\nAssessment Report. An illustrative list of impact indicators is given in Annex 1.  In case REs \\nare unable to quantify the impact of their lending/investment, they shall disclose, at the \\nminimum, the reasons, the difficulties encountered, and the time-bound future plans to address \\nthe same. Considering the fact that impact assessment is an evolving area, it shall be \\nundertaken on a voluntary basis for the financial year 2023-24. REs shall have to mandatorily \\nmake an impact assessment from the financial year 2024-25 onwards. REs shall place the \\nreport of the Third-Party Verification/Assurance and Impact Assessment Report on their \\nwebsite. \\nF. \\nReporting and Disclosures \\n11. \\nA review report shall be placed by the RE before its Board of Directors within three \\nmonths of the end of the financial year which shall, inter-alia, cover the following details: \\n(a) amount raised under green deposits during the previous financial year \\nFramework for acceptance of Green Deposits  \\n- 6 - \\n(b) list of green activities/projects to which proceeds have been allocated, along with \\na brief description of the projects \\n(c) the amounts allocated to the eligible green activities/projects \\n(d) a copy of the Third-Party Verification/Assurance Report and the Impact \\nAssessment Report. \\n12. \\nREs shall make appropriate disclosures in their Annual Financial Statements on the \\nportfolio-level information regarding the use of the green deposit funds as per the proforma \\nprescribed in Annex 2. \\n***** \\nFramework for acceptance of Green Deposits  \\n- 7 - \\nAnnex 1 \\nIllustrative list of impact indicators \\nEligible Project \\nCategory \\nImpact Indicators - Examples \\nRenewable Energy \\nTotal renewable capacity (in MWh) \\nEnergy generated per year (MWh) \\nGHG emissions avoided per year (measured in tonnes CO2 \\nequivalent, tCO2e)  \\nWaste Management \\nWaste diverted from landfill per year (tonnes)  \\nClean Transportation \\nGHG emissions avoided per year (tCO2e) \\nNew clean transportation infrastructure built (km)  \\nNumber of electric or low emission vehicles produced \\nEnergy Efficiency \\nEnergy savings per year (MWh) \\nGHG emissions avoided per year (tCO2e) \\nAfforestation/ \\nReforestation \\nGHG \\nemissions \\nreduced/Carbon \\nSequestration \\nachieved \\n(measured in tCO2e) \\n \\nFramework for acceptance of Green Deposits  \\n- 8 - \\nAnnex 2 \\nPortfolio-level information on the use of funds raised from green deposits \\n(Amount in ₹ crore) \\nParticulars \\nCurrent \\nFinancial \\nYear \\nPrevious \\nFinancial \\nYear \\nCumulative* \\nTotal green deposits raised (A) \\n \\n \\n \\nUse of green deposit funds** \\n(1) Renewable Energy \\n \\n \\n \\n(2) Energy Efficiency \\n \\n \\n \\n(3) Clean Transportation \\n \\n \\n \\n(4) Climate Change Adaptation \\n \\n \\n \\n(5) Sustainable Water and Waste \\nManagement \\n \\n \\n \\n(6) Pollution Prevention and Control  \\n \\n \\n(7) Green Buildings \\n \\n \\n \\n(8) Sustainable Management of \\nLiving Natural Resources and \\nLand Use  \\n \\n \\n \\n(9) Terrestrial and Aquatic \\nBiodiversity Conservation \\n \\n \\n \\nTotal Green Deposit funds \\nallocated (B = Sum of 1 to 9) \\n \\n \\n \\nAmount of Green Deposit funds \\nnot allocated (C = A – B) \\n \\n \\n \\nDetails of the temporary \\nallocation of green deposit \\nproceeds pending their \\nallocation to the eligible green \\nactivities/projects \\n \\n \\n \\n \\n* This shall contain the cumulative amount since the RE started offering green deposits. For example, \\nif a bank has commenced raising green deposits from June 1, 2023, then the annual financial statement \\nfor the period ending March 31, 2025 would contain particulars of deposits raised and allocated from \\nJune 1, 2023 till March 31, 2025. \\n \\n**Under each category, REs may provide sub-categories based on the funds allocated to each sub-\\nsector. For example, REs may provide sub-categories like solar energy, wind energy, etc. under \\n“Renewable Energy”. \\n', metadata={'source': '/content/drive/MyDrive/Information Extraction/Research POC/citation/Doc_1.txt'})]"
            ]
          },
          "metadata": {},
          "execution_count": 9
        }
      ]
    },
    {
      "cell_type": "code",
      "source": [
        "print (f'You have {len(data)} document(s) in your data')\n",
        "print (f'There are {len(data[0].page_content)} characters in your sample document')\n",
        "print (f'Here is a sample: {data[0].page_content[:200]}')"
      ],
      "metadata": {
        "colab": {
          "base_uri": "https://localhost:8080/"
        },
        "id": "WGn9R0Y6xn6h",
        "outputId": "460cfd32-d5ea-4e5f-ec74-b48e7d140b65"
      },
      "execution_count": 10,
      "outputs": [
        {
          "output_type": "stream",
          "name": "stdout",
          "text": [
            "You have 1 document(s) in your data\n",
            "There are 15784 characters in your sample document\n",
            "Here is a sample:  \n",
            "RBI/2023-24/14 \n",
            "DOR.SFG.REC.10/30.01.021/2023-24 \n",
            " \n",
            " \n",
            " \n",
            "                    April 11, 2023 \n",
            "  \n",
            " \n",
            "All Scheduled Commercial Banks including Small Finance Banks  \n",
            "(excluding Regional Rural Banks, Local\n"
          ]
        }
      ]
    },
    {
      "cell_type": "code",
      "source": [
        "# We'll split our data into chunks around 500 characters each with a 50 character overlap. These are relatively small.\n",
        "\n",
        "text_splitter = RecursiveCharacterTextSplitter(chunk_size=500, chunk_overlap=50)\n",
        "texts = text_splitter.split_documents(data)\n",
        "# Let's see how many small chunks we have\n",
        "print (f'Now you have {len(texts)} documents')"
      ],
      "metadata": {
        "colab": {
          "base_uri": "https://localhost:8080/"
        },
        "id": "3uVk_lMoyh_K",
        "outputId": "a427110e-55f9-4f37-f712-f16e453c0e8e"
      },
      "execution_count": 11,
      "outputs": [
        {
          "output_type": "stream",
          "name": "stdout",
          "text": [
            "Now you have 36 documents\n"
          ]
        }
      ]
    },
    {
      "cell_type": "code",
      "source": [
        "OPENAI_API_KEY= ''\n",
        "os.environ[\"OPENAI_API_KEY\"] = ''\n",
        "embeddings = OpenAIEmbeddings()"
      ],
      "metadata": {
        "id": "Vq5kTu3uyns6"
      },
      "execution_count": 12,
      "outputs": []
    },
    {
      "cell_type": "code",
      "source": [
        "vectorstore = Chroma.from_documents(texts, embeddings)\n",
        "query = \"What is green deposits?\" #\"What is aka corp dev group is about?\"\n",
        "docs = vectorstore.similarity_search(query)"
      ],
      "metadata": {
        "id": "4IdKtlE-yqtQ"
      },
      "execution_count": 13,
      "outputs": []
    },
    {
      "cell_type": "code",
      "source": [
        "for doc in docs:\n",
        "    print (f\"{doc.page_content}\\n\")"
      ],
      "metadata": {
        "id": "dt4qf4ghy_dZ",
        "colab": {
          "base_uri": "https://localhost:8080/"
        },
        "outputId": "75630f73-6513-4a35-cb1b-6e194f030776"
      },
      "execution_count": 14,
      "outputs": [
        {
          "output_type": "stream",
          "name": "stdout",
          "text": [
            "allocation of green deposit \n",
            "proceeds pending their \n",
            "allocation to the eligible green \n",
            "activities/projects \n",
            " \n",
            " \n",
            " \n",
            " \n",
            "* This shall contain the cumulative amount since the RE started offering green deposits. For example, \n",
            "if a bank has commenced raising green deposits from June 1, 2023, then the annual financial statement \n",
            "for the period ending March 31, 2025 would contain particulars of deposits raised and allocated from \n",
            "June 1, 2023 till March 31, 2025.\n",
            "\n",
            "2. \n",
            "Definitions \n",
            "In these guidelines, unless the context states otherwise, the terms herein shall bear the \n",
            "meaning assigned to them below: \n",
            "(a) \"green activities/projects” means the activities/projects meeting the requirements \n",
            "prescribed in paragraph 7 of these guidelines; \n",
            "(b) “green deposit” means an interest-bearing deposit, received by the RE for a fixed period \n",
            "and the proceeds of which are earmarked for being allocated towards green finance;\n",
            "\n",
            "6Feedstock will primarily include: Sewage, manure, wastewater, bagasse, biomass, wood pellets, etc. \n",
            "Framework for acceptance of Green Deposits  \n",
            "- 5 - \n",
            " \n",
            "The REs shall ensure that the funds raised through green deposits are allocated to the eligible \n",
            "green activities/projects. \n",
            "E. \n",
            "Third-Party Verification/Assurance and Impact Assessment \n",
            "8. \n",
            "The allocation of funds raised through green deposits by REs during a financial year\n",
            "\n",
            "1934, The National Housing Bank Act, 1987 or any statutory modification or re-enactment \n",
            "thereto or as used in commercial parlance, as the case may be. \n",
            "B. \n",
            "Green Deposit Framework \n",
            "3. \n",
            "Denomination, interest rates and tenor of deposits \n",
            "REs shall issue green deposits as cumulative/non-cumulative deposits. On maturity, the green \n",
            "deposits would be renewed or withdrawn at the option of the depositor. The green deposits\n",
            "\n"
          ]
        }
      ]
    },
    {
      "cell_type": "code",
      "source": [
        "llm = ChatOpenAI(temperature=0, model=\"gpt4\")\n",
        "prompt=r\"\"\"Generate a descriptive answer from multiple references and give citation contaxt.\n",
        "            If you are not able to generate the answer, just say not able to generate answer for the question from the given context.\n",
        "            Consider the context that was given and do not think out of the context to generate the answer.\n",
        "            {context}\n",
        "            Question: {query}\n",
        "            Answer:\n",
        "            \"\"\"\n",
        "llm = ChatOpenAI(temperature=0, openai_api_key=OPENAI_API_KEY)\n",
        "chain = create_citation_fuzzy_match_chain(llm)\n",
        "query = \"What is green deposits?\"  #\"What is aka corp dev group is about?\"\n",
        "def gen_ans(query):\n",
        "  retieval = chain.run(context=docs,question=query,return_source_documents=True)#, Title=title, page_no=page_number)\n",
        "  return(retieval)\n",
        "\n",
        "#qa = RetrievalQA.from_chain_type(llm=llm, chain_type=\"stuff\", retriever=docsearch.as_retriever())\n",
        "gen_ans(query)"
      ],
      "metadata": {
        "colab": {
          "base_uri": "https://localhost:8080/"
        },
        "id": "FLxdWbbFzCiT",
        "outputId": "f8376345-35b2-4d66-f8cc-e7cceae1d15a"
      },
      "execution_count": 17,
      "outputs": [
        {
          "output_type": "execute_result",
          "data": {
            "text/plain": [
              "QuestionAnswer(question='What is green deposits?', answer=[FactWithEvidence(fact='A green deposit means an interest-bearing deposit, received by the RE for a fixed period and the proceeds of which are earmarked for being allocated towards green finance.', substring_quote=['“green deposit” means an interest-bearing deposit, received by the RE for a fixed period and the proceeds of which are earmarked for being allocated towards green finance;'])])"
            ]
          },
          "metadata": {},
          "execution_count": 17
        }
      ]
    },
    {
      "cell_type": "code",
      "source": [
        "retieval = chain.run(context=docs,question=query,return_source_documents=True)#, Title=title, page_no=page_number)\n",
        "\n",
        "def highlight(text, span):\n",
        "    return (\n",
        "        \"...\"\n",
        "        + text[span[0] - 20 : span[0]]\n",
        "        + \"*\"\n",
        "        + \"\\033[91m\"\n",
        "        + text[span[0] : span[1]]\n",
        "        + \"\\033[0m\"\n",
        "        + \"*\"\n",
        "        + text[span[1] : span[1] + 20]\n",
        "        + \"...\"\n",
        "    )\n",
        "\n",
        "for fact in retieval.answer:\n",
        "    print(\"Statement:\", fact.fact)"
      ],
      "metadata": {
        "colab": {
          "base_uri": "https://localhost:8080/"
        },
        "id": "WXbx4fdx040x",
        "outputId": "d6e3fcae-6691-46ad-d954-deb94468256f"
      },
      "execution_count": 18,
      "outputs": [
        {
          "output_type": "stream",
          "name": "stdout",
          "text": [
            "Statement: A green deposit means an interest-bearing deposit, received by the RE for a fixed period and the proceeds of which are earmarked for being allocated towards green finance.\n"
          ]
        }
      ]
    },
    {
      "cell_type": "code",
      "source": [
        "gen_ans(query)\n",
        "\n",
        "def extract_target_sentences_from_retrieval(retrieval):\n",
        "    question = retrieval.question\n",
        "    facts_with_evidence = retrieval.answer\n",
        "\n",
        "    all_target_sentences = []\n",
        "\n",
        "    if facts_with_evidence:\n",
        "        for fact in facts_with_evidence:\n",
        "            if fact.substring_quote:\n",
        "                all_target_sentences.extend(fact.substring_quote)\n",
        "    target_sentences = ' '.join(all_target_sentences)\n",
        "\n",
        "    return target_sentences\n",
        "\n",
        "target_sentences = extract_target_sentences_from_retrieval(retieval)\n",
        "if target_sentences:\n",
        "    print(f\"Target Context: {target_sentences}\")\n",
        "else:\n",
        "    print(\"No substring_quotes found in the retrieval output.\")\n",
        "def search_all_pages(document, target_context):\n",
        "    results = []\n",
        "\n",
        "    for page_number in range(document.page_count):\n",
        "        page = document[page_number]\n",
        "\n",
        "        search_results = page.search_for(target_context)\n",
        "\n",
        "        # If there are search results on the current page, add them to the overall results\n",
        "        if search_results:\n",
        "            for result in search_results:\n",
        "                results.append({\n",
        "                    \"Page Number\": page_number + 1,  # Page numbers start from 1\n",
        "                    \"Rect\": result,\n",
        "                    \"Text\": page.get_text(\"text\", clip=result)\n",
        "                })\n",
        "\n",
        "    return results\n",
        "\n",
        "\n",
        "doc = fitz.open(file_path)\n",
        "\n",
        "search_results = search_all_pages(doc, target_sentences)\n",
        "\n",
        "for result in search_results:\n",
        "    print(f\"Page Number: {result['Page Number']}\")\n",
        "    print(f\"Rect: {result['Rect']}\")\n",
        "    print(f\"Text: {result['Text']}\\n\")\n",
        "\n",
        "def extract_file_name(path):\n",
        "  file_name = os.path.basename(path)\n",
        "  return (print('File=',file_name))\n",
        "\n",
        "extract_file_name(file_path)\n",
        "get_pdf_metadata(file_path)"
      ],
      "metadata": {
        "colab": {
          "base_uri": "https://localhost:8080/"
        },
        "id": "kvcKxAeIzo47",
        "outputId": "255617d2-b635-4856-dc6b-d55a53700d8d"
      },
      "execution_count": 19,
      "outputs": [
        {
          "output_type": "stream",
          "name": "stdout",
          "text": [
            "Target Context: “green deposit” means an interest-bearing deposit, received by the RE for a fixed period and the proceeds of which are earmarked for being allocated towards green finance;\n",
            "Page Number: 2\n",
            "Rect: Rect(85.08000183105469, 544.9201049804688, 198.85293579101562, 557.1868286132812)\n",
            "Text: “green deposit” means \n",
            "\n",
            "\n",
            "Page Number: 2\n",
            "Rect: Rect(199.33999633789062, 543.0564575195312, 520.472412109375, 558.1430053710938)\n",
            "Text: an interest-bearing deposit, received by the RE for a fixed period \n",
            "\n",
            "\n",
            "Page Number: 2\n",
            "Rect: Rect(85.08000183105469, 562.0164184570312, 495.4524230957031, 577.1029663085938)\n",
            "Text: and the proceeds of which are earmarked for being allocated towards green finance;\n",
            "\n",
            "\n",
            "File= Doc_1.PDF\n",
            "Title: Basel III Capital Regulations\n",
            "Creation Date: D:20230411145032+05'30'\n",
            "Modification Date: D:20230411152613+05'30'\n",
            "Number of Pages: 9\n"
          ]
        }
      ]
    }
  ]
}